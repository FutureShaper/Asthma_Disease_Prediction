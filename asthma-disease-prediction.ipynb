{
 "cells": [
  {
   "cell_type": "code",
   "execution_count": 1,
   "id": "241fe89f",
   "metadata": {
    "execution": {
     "iopub.execute_input": "2023-09-11T12:49:00.890935Z",
     "iopub.status.busy": "2023-09-11T12:49:00.890410Z",
     "iopub.status.idle": "2023-09-11T12:49:05.539988Z",
     "shell.execute_reply": "2023-09-11T12:49:05.538786Z"
    },
    "papermill": {
     "duration": 4.661037,
     "end_time": "2023-09-11T12:49:05.545081",
     "exception": false,
     "start_time": "2023-09-11T12:49:00.884044",
     "status": "completed"
    },
    "tags": []
   },
   "outputs": [
    {
     "name": "stdout",
     "output_type": "stream",
     "text": [
      "Accuracy: 0.24035669191919193\n",
      "Confusion matrix:\n",
      " [[5858 2825 1390 5646]\n",
      " [6282 2630 1411 5652]\n",
      " [6111 2765 1366 5667]\n",
      " [6229 2795 1358 5375]]\n",
      "Classification report:\n",
      "               precision    recall  f1-score   support\n",
      "\n",
      "           0       0.24      0.37      0.29     15719\n",
      "           1       0.24      0.16      0.19     15975\n",
      "           2       0.25      0.09      0.13     15909\n",
      "           3       0.24      0.34      0.28     15757\n",
      "\n",
      "    accuracy                           0.24     63360\n",
      "   macro avg       0.24      0.24      0.22     63360\n",
      "weighted avg       0.24      0.24      0.22     63360\n",
      "\n"
     ]
    }
   ],
   "source": [
    "# Import pandas and sklearn libraries\n",
    "import pandas as pd\n",
    "from sklearn.model_selection import train_test_split\n",
    "from sklearn.linear_model import LogisticRegression\n",
    "from sklearn.metrics import accuracy_score, confusion_matrix, classification_report\n",
    "\n",
    "# Read the dataset from a csv file\n",
    "df = pd.read_csv('/kaggle/input/asthma-disease-prediction/processed-data.csv')\n",
    "\n",
    "# Drop the last three columns as they are the target classes\n",
    "X = df.drop(['Severity_Mild', 'Severity_Moderate', 'Severity_None'], axis=1)\n",
    "\n",
    "# Create a new column that combines the last three columns into one target class\n",
    "# 1: Severity_Mild , 2: Severity_Moderate, 3: Severity_None, or 0 if none of the three\n",
    "y = df['Severity_Mild'] + 2 * df['Severity_Moderate'] + 3 * df['Severity_None']\n",
    "\n",
    "# Split the data into train and test sets with a 80-20 ratio\n",
    "X_train, X_test, y_train, y_test = train_test_split(X, y, test_size=0.2, random_state=42)\n",
    "\n",
    "# Create and fit a logistic regression model on the train set\n",
    "model = LogisticRegression()\n",
    "model.fit(X_train, y_train)\n",
    "\n",
    "# Make predictions on the test set\n",
    "y_pred = model.predict(X_test)\n",
    "\n",
    "# Evaluate the model performance using accuracy, confusion matrix, and classification report\n",
    "print('Accuracy:', accuracy_score(y_test, y_pred))\n",
    "print('Confusion matrix:\\n', confusion_matrix(y_test, y_pred))\n",
    "print('Classification report:\\n', classification_report(y_test, y_pred))"
   ]
  },
  {
   "cell_type": "code",
   "execution_count": 2,
   "id": "e15cba51",
   "metadata": {
    "execution": {
     "iopub.execute_input": "2023-09-11T12:49:05.555789Z",
     "iopub.status.busy": "2023-09-11T12:49:05.555288Z",
     "iopub.status.idle": "2023-09-11T12:49:44.944718Z",
     "shell.execute_reply": "2023-09-11T12:49:44.943551Z"
    },
    "papermill": {
     "duration": 39.397648,
     "end_time": "2023-09-11T12:49:44.947010",
     "exception": false,
     "start_time": "2023-09-11T12:49:05.549362",
     "status": "completed"
    },
    "tags": []
   },
   "outputs": [
    {
     "name": "stdout",
     "output_type": "stream",
     "text": [
      "Epoch 1/2\n",
      "7920/7920 [==============================] - 13s 2ms/step - loss: 1.3936 - accuracy: 0.2500\n",
      "Epoch 2/2\n",
      "7920/7920 [==============================] - 12s 2ms/step - loss: 1.3871 - accuracy: 0.2496\n",
      "1980/1980 [==============================] - 2s 1ms/step\n",
      "Accuracy: 0.2482638888888889\n",
      "Confusion matrix:\n",
      " [[1150 7619 4020 2930]\n",
      " [1243 7513 4185 3034]\n",
      " [1206 7560 4126 3017]\n",
      " [1189 7375 4252 2941]]\n",
      "Classification report:\n",
      "               precision    recall  f1-score   support\n",
      "\n",
      "           0       0.24      0.07      0.11     15719\n",
      "           1       0.25      0.47      0.33     15975\n",
      "           2       0.25      0.26      0.25     15909\n",
      "           3       0.25      0.19      0.21     15757\n",
      "\n",
      "    accuracy                           0.25     63360\n",
      "   macro avg       0.25      0.25      0.23     63360\n",
      "weighted avg       0.25      0.25      0.23     63360\n",
      "\n"
     ]
    }
   ],
   "source": [
    "# Import pandas and keras libraries\n",
    "import pandas as pd\n",
    "from keras.models import Sequential\n",
    "from keras.layers import Dense\n",
    "from keras.utils import to_categorical\n",
    "from sklearn.model_selection import train_test_split\n",
    "from sklearn.metrics import accuracy_score, confusion_matrix, classification_report\n",
    "\n",
    "# Read the dataset from a csv file\n",
    "df = pd.read_csv('/kaggle/input/asthma-disease-prediction/processed-data.csv')\n",
    "\n",
    "# Drop the last three columns as they are the target classes\n",
    "X = df.drop(['Severity_Mild', 'Severity_Moderate', 'Severity_None'], axis=1)\n",
    "\n",
    "# Create a new column that combines the last three columns into one target class\n",
    "# 1: Severity_Mild , 2: Severity_Moderate, 3: Severity_None, or 0 if none of the three\n",
    "y = df['Severity_Mild'] + 2 * df['Severity_Moderate'] + 3 * df['Severity_None']\n",
    "\n",
    "# Convert the target class to one-hot encoding\n",
    "y = to_categorical(y)\n",
    "\n",
    "# Split the data into train and test sets with a 80-20 ratio\n",
    "X_train, X_test, y_train, y_test = train_test_split(X, y, test_size=0.2, random_state=42)\n",
    "\n",
    "# Create and compile a sequential model with a dense layer for logistic regression\n",
    "model = Sequential()\n",
    "model.add(Dense(4, input_dim=X.shape[1], activation='softmax'))\n",
    "model.compile(loss='categorical_crossentropy', optimizer='adam', metrics=['accuracy'])\n",
    "\n",
    "# Fit the model on the train set\n",
    "model.fit(X_train, y_train, epochs=2, batch_size=32)\n",
    "\n",
    "# Make predictions on the test set\n",
    "y_pred = model.predict(X_test)\n",
    "\n",
    "# Evaluate the model performance using accuracy, confusion matrix, and classification report\n",
    "print('Accuracy:', accuracy_score(y_test.argmax(axis=1), y_pred.argmax(axis=1)))\n",
    "print('Confusion matrix:\\n', confusion_matrix(y_test.argmax(axis=1), y_pred.argmax(axis=1)))\n",
    "print('Classification report:\\n', classification_report(y_test.argmax(axis=1), y_pred.argmax(axis=1)))\n"
   ]
  },
  {
   "cell_type": "code",
   "execution_count": null,
   "id": "1d0d7510",
   "metadata": {
    "papermill": {
     "duration": 0.053557,
     "end_time": "2023-09-11T12:49:45.054767",
     "exception": false,
     "start_time": "2023-09-11T12:49:45.001210",
     "status": "completed"
    },
    "tags": []
   },
   "outputs": [],
   "source": []
  }
 ],
 "kernelspec": {
  "display_name": "Python 3",
  "language": "python",
  "name": "python3"
 },
 "language_info": {
  "codemirror_mode": {
   "name": "ipython",
   "version": 3
  },
  "file_extension": ".py",
  "mimetype": "text/x-python",
  "name": "python",
  "nbconvert_exporter": "python",
  "pygments_lexer": "ipython3",
  "version": "3.6.4"
 },
 "metadata": {
  "kernelspec": {
   "display_name": "Python 3",
   "language": "python",
   "name": "python3"
  },
  "language_info": {
   "codemirror_mode": {
    "name": "ipython",
    "version": 3
   },
   "file_extension": ".py",
   "mimetype": "text/x-python",
   "name": "python",
   "nbconvert_exporter": "python",
   "pygments_lexer": "ipython3",
   "version": "3.10.12"
  },
  "papermill": {
   "default_parameters": {},
   "duration": 50.514224,
   "end_time": "2023-09-11T12:49:47.645455",
   "environment_variables": {},
   "exception": null,
   "input_path": "__notebook__.ipynb",
   "output_path": "__notebook__.ipynb",
   "parameters": {},
   "start_time": "2023-09-11T12:48:57.131231",
   "version": "2.4.0"
  }
 },
 "nbformat": 4,
 "nbformat_minor": 5
}
